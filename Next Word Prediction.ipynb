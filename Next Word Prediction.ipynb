{
 "cells": [
  {
   "cell_type": "code",
   "execution_count": 1,
   "id": "d67544a8",
   "metadata": {},
   "outputs": [],
   "source": [
    "import pandas as pd\n",
    "import os\n",
    "import numpy as np"
   ]
  },
  {
   "cell_type": "code",
   "execution_count": 2,
   "id": "e096f575",
   "metadata": {},
   "outputs": [],
   "source": [
    "import tensorflow as tf\n",
    "from tensorflow.keras.preprocessing.sequence import pad_sequences\n",
    "from tensorflow.keras.layers import Embedding, LSTM, Dense, Bidirectional\n",
    "from tensorflow.keras.preprocessing.text import Tokenizer\n",
    "from tensorflow.keras.models import Sequential\n",
    "from tensorflow.keras.optimizers import Adam"
   ]
  },
  {
   "cell_type": "code",
   "execution_count": 3,
   "id": "26b0abaf",
   "metadata": {},
   "outputs": [
    {
     "data": {
      "text/html": [
       "<div>\n",
       "<style scoped>\n",
       "    .dataframe tbody tr th:only-of-type {\n",
       "        vertical-align: middle;\n",
       "    }\n",
       "\n",
       "    .dataframe tbody tr th {\n",
       "        vertical-align: top;\n",
       "    }\n",
       "\n",
       "    .dataframe thead th {\n",
       "        text-align: right;\n",
       "    }\n",
       "</style>\n",
       "<table border=\"1\" class=\"dataframe\">\n",
       "  <thead>\n",
       "    <tr style=\"text-align: right;\">\n",
       "      <th></th>\n",
       "      <th>id</th>\n",
       "      <th>url</th>\n",
       "      <th>title</th>\n",
       "      <th>subtitle</th>\n",
       "      <th>image</th>\n",
       "      <th>claps</th>\n",
       "      <th>responses</th>\n",
       "      <th>reading_time</th>\n",
       "      <th>publication</th>\n",
       "      <th>date</th>\n",
       "    </tr>\n",
       "  </thead>\n",
       "  <tbody>\n",
       "    <tr>\n",
       "      <th>0</th>\n",
       "      <td>1</td>\n",
       "      <td>https://towardsdatascience.com/a-beginners-gui...</td>\n",
       "      <td>A Beginner’s Guide to Word Embedding with Gens...</td>\n",
       "      <td>NaN</td>\n",
       "      <td>1.png</td>\n",
       "      <td>850</td>\n",
       "      <td>8</td>\n",
       "      <td>8</td>\n",
       "      <td>Towards Data Science</td>\n",
       "      <td>2019-05-30</td>\n",
       "    </tr>\n",
       "    <tr>\n",
       "      <th>1</th>\n",
       "      <td>2</td>\n",
       "      <td>https://towardsdatascience.com/hands-on-graph-...</td>\n",
       "      <td>Hands-on Graph Neural Networks with PyTorch &amp; ...</td>\n",
       "      <td>NaN</td>\n",
       "      <td>2.png</td>\n",
       "      <td>1100</td>\n",
       "      <td>11</td>\n",
       "      <td>9</td>\n",
       "      <td>Towards Data Science</td>\n",
       "      <td>2019-05-30</td>\n",
       "    </tr>\n",
       "    <tr>\n",
       "      <th>2</th>\n",
       "      <td>3</td>\n",
       "      <td>https://towardsdatascience.com/how-to-use-ggpl...</td>\n",
       "      <td>How to Use ggplot2 in Python</td>\n",
       "      <td>A Grammar of Graphics for Python</td>\n",
       "      <td>3.png</td>\n",
       "      <td>767</td>\n",
       "      <td>1</td>\n",
       "      <td>5</td>\n",
       "      <td>Towards Data Science</td>\n",
       "      <td>2019-05-30</td>\n",
       "    </tr>\n",
       "    <tr>\n",
       "      <th>3</th>\n",
       "      <td>4</td>\n",
       "      <td>https://towardsdatascience.com/databricks-how-...</td>\n",
       "      <td>Databricks: How to Save Files in CSV on Your L...</td>\n",
       "      <td>When I work on Python projects dealing…</td>\n",
       "      <td>4.jpeg</td>\n",
       "      <td>354</td>\n",
       "      <td>0</td>\n",
       "      <td>4</td>\n",
       "      <td>Towards Data Science</td>\n",
       "      <td>2019-05-30</td>\n",
       "    </tr>\n",
       "    <tr>\n",
       "      <th>4</th>\n",
       "      <td>5</td>\n",
       "      <td>https://towardsdatascience.com/a-step-by-step-...</td>\n",
       "      <td>A Step-by-Step Implementation of Gradient Desc...</td>\n",
       "      <td>One example of building neural…</td>\n",
       "      <td>5.jpeg</td>\n",
       "      <td>211</td>\n",
       "      <td>3</td>\n",
       "      <td>4</td>\n",
       "      <td>Towards Data Science</td>\n",
       "      <td>2019-05-30</td>\n",
       "    </tr>\n",
       "  </tbody>\n",
       "</table>\n",
       "</div>"
      ],
      "text/plain": [
       "   id                                                url  \\\n",
       "0   1  https://towardsdatascience.com/a-beginners-gui...   \n",
       "1   2  https://towardsdatascience.com/hands-on-graph-...   \n",
       "2   3  https://towardsdatascience.com/how-to-use-ggpl...   \n",
       "3   4  https://towardsdatascience.com/databricks-how-...   \n",
       "4   5  https://towardsdatascience.com/a-step-by-step-...   \n",
       "\n",
       "                                               title  \\\n",
       "0  A Beginner’s Guide to Word Embedding with Gens...   \n",
       "1  Hands-on Graph Neural Networks with PyTorch & ...   \n",
       "2                       How to Use ggplot2 in Python   \n",
       "3  Databricks: How to Save Files in CSV on Your L...   \n",
       "4  A Step-by-Step Implementation of Gradient Desc...   \n",
       "\n",
       "                                  subtitle   image  claps responses  \\\n",
       "0                                      NaN   1.png    850         8   \n",
       "1                                      NaN   2.png   1100        11   \n",
       "2         A Grammar of Graphics for Python   3.png    767         1   \n",
       "3  When I work on Python projects dealing…  4.jpeg    354         0   \n",
       "4          One example of building neural…  5.jpeg    211         3   \n",
       "\n",
       "   reading_time           publication        date  \n",
       "0             8  Towards Data Science  2019-05-30  \n",
       "1             9  Towards Data Science  2019-05-30  \n",
       "2             5  Towards Data Science  2019-05-30  \n",
       "3             4  Towards Data Science  2019-05-30  \n",
       "4             4  Towards Data Science  2019-05-30  "
      ]
     },
     "execution_count": 3,
     "metadata": {},
     "output_type": "execute_result"
    }
   ],
   "source": [
    "medium_data = pd.read_csv('medium_data.csv')\n",
    "medium_data.head()"
   ]
  },
  {
   "cell_type": "code",
   "execution_count": 4,
   "id": "cdfe9789",
   "metadata": {},
   "outputs": [
    {
     "name": "stdout",
     "output_type": "stream",
     "text": [
      "Number of records:  6508\n",
      "Number of fields:  10\n"
     ]
    }
   ],
   "source": [
    "print(\"Number of records: \", medium_data.shape[0])\n",
    "print(\"Number of fields: \", medium_data.shape[1])"
   ]
  },
  {
   "cell_type": "code",
   "execution_count": 5,
   "id": "c6902b52",
   "metadata": {},
   "outputs": [
    {
     "data": {
      "text/plain": [
       "0       A Beginner’s Guide to Word Embedding with Gens...\n",
       "1       Hands-on Graph Neural Networks with PyTorch & ...\n",
       "2                            How to Use ggplot2 in Python\n",
       "3       Databricks: How to Save Files in CSV on Your L...\n",
       "4       A Step-by-Step Implementation of Gradient Desc...\n",
       "                              ...                        \n",
       "6503    “We” vs “I” — How Should You Talk About Yourse...\n",
       "6504                     How Donald Trump Markets Himself\n",
       "6505        Content and Marketing Beyond Mass Consumption\n",
       "6506    5 Questions All Copywriters Should Ask Clients...\n",
       "6507               How To Write a Good Business Blog Post\n",
       "Name: title, Length: 6508, dtype: object"
      ]
     },
     "execution_count": 5,
     "metadata": {},
     "output_type": "execute_result"
    }
   ],
   "source": [
    "medium_data['title']"
   ]
  },
  {
   "cell_type": "code",
   "execution_count": 6,
   "id": "7b4ff24e",
   "metadata": {},
   "outputs": [],
   "source": [
    "medium_data['title'] = medium_data['title'].apply(lambda x: x.replace(u'\\xa0',u' '))\n",
    "medium_data['title'] = medium_data['title'].apply(lambda x: x.replace('\\u200a',' '))"
   ]
  },
  {
   "cell_type": "code",
   "execution_count": 7,
   "id": "89178de0",
   "metadata": {},
   "outputs": [
    {
     "name": "stdout",
     "output_type": "stream",
     "text": [
      "Total number of words:  8238\n",
      "Word: ID\n",
      "------------\n",
      "<oov>:  1\n",
      "Strong:  4\n",
      "And:  8\n",
      "Consumption:  8237\n"
     ]
    }
   ],
   "source": [
    "tokenizer = Tokenizer(oov_token='<oov>') # For those words which are not found in word_index\n",
    "tokenizer.fit_on_texts(medium_data['title'])\n",
    "total_words = len(tokenizer.word_index) + 1\n",
    "\n",
    "print(\"Total number of words: \", total_words)\n",
    "print(\"Word: ID\")\n",
    "print(\"------------\")\n",
    "print(\"<oov>: \", tokenizer.word_index['<oov>'])\n",
    "print(\"Strong: \", tokenizer.word_index['strong'])\n",
    "print(\"And: \", tokenizer.word_index['and'])\n",
    "print(\"Consumption: \", tokenizer.word_index['consumption'])"
   ]
  },
  {
   "cell_type": "code",
   "execution_count": 8,
   "id": "c18ec8f1",
   "metadata": {},
   "outputs": [
    {
     "name": "stdout",
     "output_type": "stream",
     "text": [
      "Total input sequences:  48461\n"
     ]
    }
   ],
   "source": [
    "input_sequences = []\n",
    "for line in medium_data['title']:\n",
    "    token_list = tokenizer.texts_to_sequences([line])[0]\n",
    "    #print(token_list)\n",
    "    \n",
    "    for i in range(1, len(token_list)):\n",
    "        n_gram_sequence = token_list[:i+1]\n",
    "        input_sequences.append(n_gram_sequence)\n",
    "\n",
    "# print(input_sequences)\n",
    "print(\"Total input sequences: \", len(input_sequences))"
   ]
  },
  {
   "cell_type": "code",
   "execution_count": 9,
   "id": "f511aca4",
   "metadata": {},
   "outputs": [
    {
     "data": {
      "text/plain": [
       "array([  0,   0,   0,   0,   0,   0,   0,   0,   0,   0,   0,   0,   0,\n",
       "         0,   0,   0,   0,   0,   0,   0,   0,   0,   0,   0,   0,   0,\n",
       "         0,   0,   0,   0,   0,   0,   0,   0,   0,   0,   0,   5, 676,\n",
       "        68])"
      ]
     },
     "execution_count": 9,
     "metadata": {},
     "output_type": "execute_result"
    }
   ],
   "source": [
    "# pad sequences \n",
    "max_sequence_len = max([len(x) for x in input_sequences])\n",
    "input_sequences = np.array(pad_sequences(input_sequences, maxlen=max_sequence_len, padding='pre'))\n",
    "input_sequences[1]"
   ]
  },
  {
   "cell_type": "code",
   "execution_count": 10,
   "id": "3f7941eb",
   "metadata": {},
   "outputs": [],
   "source": [
    "# create features and label\n",
    "xs, labels = input_sequences[:,:-1],input_sequences[:,-1]\n",
    "ys = tf.keras.utils.to_categorical(labels, num_classes=total_words)"
   ]
  },
  {
   "cell_type": "code",
   "execution_count": 11,
   "id": "2f0996d4",
   "metadata": {},
   "outputs": [
    {
     "name": "stdout",
     "output_type": "stream",
     "text": [
      "[   0    0    0    0    0    0    0    0    0    0    0    0    0    0\n",
      "    0    0    0    0    0    0    0    0    0    0    0    0    0    0\n",
      "    0    0    0    0    0    5  676   68    2  452 1518]\n",
      "14\n",
      "1.0\n"
     ]
    }
   ],
   "source": [
    "print(xs[5])\n",
    "print(labels[5])\n",
    "print(ys[5][14])"
   ]
  },
  {
   "cell_type": "markdown",
   "id": "05ca5bce",
   "metadata": {},
   "source": [
    "# Bi- LSTM Neural Network Model training"
   ]
  },
  {
   "cell_type": "code",
   "execution_count": 12,
   "id": "0a6376cf",
   "metadata": {
    "scrolled": true
   },
   "outputs": [
    {
     "name": "stderr",
     "output_type": "stream",
     "text": [
      "WARNING:absl:`lr` is deprecated, please use `learning_rate` instead, or use the legacy optimizer, e.g.,tf.keras.optimizers.legacy.Adam.\n"
     ]
    },
    {
     "name": "stdout",
     "output_type": "stream",
     "text": [
      "Epoch 1/50\n",
      "1515/1515 [==============================] - 269s 172ms/step - loss: 6.9907 - accuracy: 0.0839\n",
      "Epoch 2/50\n",
      "1515/1515 [==============================] - 250s 165ms/step - loss: 6.1396 - accuracy: 0.1396\n",
      "Epoch 3/50\n",
      "1515/1515 [==============================] - 243s 161ms/step - loss: 5.6100 - accuracy: 0.1697\n",
      "Epoch 4/50\n",
      "1515/1515 [==============================] - 240s 159ms/step - loss: 5.1439 - accuracy: 0.1923\n",
      "Epoch 5/50\n",
      "1515/1515 [==============================] - 240s 158ms/step - loss: 4.7168 - accuracy: 0.2138\n",
      "Epoch 6/50\n",
      "1515/1515 [==============================] - 245s 162ms/step - loss: 4.3165 - accuracy: 0.2433\n",
      "Epoch 7/50\n",
      "1515/1515 [==============================] - 249s 165ms/step - loss: 3.9340 - accuracy: 0.2807\n",
      "Epoch 8/50\n",
      "1515/1515 [==============================] - 284s 187ms/step - loss: 3.5747 - accuracy: 0.3274\n",
      "Epoch 9/50\n",
      "1515/1515 [==============================] - 246s 162ms/step - loss: 3.2356 - accuracy: 0.3794\n",
      "Epoch 10/50\n",
      "1515/1515 [==============================] - 239s 158ms/step - loss: 2.9229 - accuracy: 0.4307\n",
      "Epoch 11/50\n",
      "1515/1515 [==============================] - 238s 157ms/step - loss: 2.6435 - accuracy: 0.4802\n",
      "Epoch 12/50\n",
      "1515/1515 [==============================] - 236s 156ms/step - loss: 2.3938 - accuracy: 0.5250\n",
      "Epoch 13/50\n",
      "1515/1515 [==============================] - 236s 155ms/step - loss: 2.1686 - accuracy: 0.5706\n",
      "Epoch 14/50\n",
      "1515/1515 [==============================] - 246s 162ms/step - loss: 1.9695 - accuracy: 0.6069\n",
      "Epoch 15/50\n",
      "1515/1515 [==============================] - 241s 159ms/step - loss: 1.7928 - accuracy: 0.6410\n",
      "Epoch 16/50\n",
      "1515/1515 [==============================] - 235s 155ms/step - loss: 1.6348 - accuracy: 0.6735\n",
      "Epoch 17/50\n",
      "1515/1515 [==============================] - 236s 156ms/step - loss: 1.4960 - accuracy: 0.7000\n",
      "Epoch 18/50\n",
      "1515/1515 [==============================] - 197s 130ms/step - loss: 1.3727 - accuracy: 0.7245\n",
      "Epoch 19/50\n",
      "1515/1515 [==============================] - 142s 94ms/step - loss: 1.2642 - accuracy: 0.7468\n",
      "Epoch 20/50\n",
      "1515/1515 [==============================] - 142s 94ms/step - loss: 1.1691 - accuracy: 0.7654\n",
      "Epoch 21/50\n",
      "1515/1515 [==============================] - 143s 94ms/step - loss: 1.0857 - accuracy: 0.7808\n",
      "Epoch 22/50\n",
      "1515/1515 [==============================] - 143s 95ms/step - loss: 1.0134 - accuracy: 0.7947\n",
      "Epoch 23/50\n",
      "1515/1515 [==============================] - 143s 94ms/step - loss: 0.9483 - accuracy: 0.8071\n",
      "Epoch 24/50\n",
      "1515/1515 [==============================] - 145s 96ms/step - loss: 0.8981 - accuracy: 0.8162\n",
      "Epoch 25/50\n",
      "1515/1515 [==============================] - 157s 104ms/step - loss: 0.8513 - accuracy: 0.8241\n",
      "Epoch 26/50\n",
      "1515/1515 [==============================] - 238s 157ms/step - loss: 0.8111 - accuracy: 0.8310\n",
      "Epoch 27/50\n",
      "1515/1515 [==============================] - 242s 159ms/step - loss: 0.7763 - accuracy: 0.8365\n",
      "Epoch 28/50\n",
      "1515/1515 [==============================] - 275s 181ms/step - loss: 0.7495 - accuracy: 0.8395\n",
      "Epoch 29/50\n",
      "1515/1515 [==============================] - 281s 186ms/step - loss: 0.7225 - accuracy: 0.8431\n",
      "Epoch 30/50\n",
      "1515/1515 [==============================] - 247s 163ms/step - loss: 0.7016 - accuracy: 0.8462\n",
      "Epoch 31/50\n",
      "1515/1515 [==============================] - 200s 132ms/step - loss: 0.6834 - accuracy: 0.8484\n",
      "Epoch 32/50\n",
      "1515/1515 [==============================] - 192s 127ms/step - loss: 0.6691 - accuracy: 0.8492\n",
      "Epoch 33/50\n",
      "1515/1515 [==============================] - 189s 125ms/step - loss: 0.6533 - accuracy: 0.8503\n",
      "Epoch 34/50\n",
      "1515/1515 [==============================] - 199s 131ms/step - loss: 0.6436 - accuracy: 0.8514\n",
      "Epoch 35/50\n",
      "1515/1515 [==============================] - 225s 148ms/step - loss: 0.6329 - accuracy: 0.8529\n",
      "Epoch 36/50\n",
      "1515/1515 [==============================] - 196s 130ms/step - loss: 0.6267 - accuracy: 0.8528\n",
      "Epoch 37/50\n",
      "1515/1515 [==============================] - 207s 136ms/step - loss: 0.6176 - accuracy: 0.8533\n",
      "Epoch 38/50\n",
      "1515/1515 [==============================] - 198s 131ms/step - loss: 0.6115 - accuracy: 0.8544\n",
      "Epoch 39/50\n",
      "1515/1515 [==============================] - 183s 121ms/step - loss: 0.6053 - accuracy: 0.8547\n",
      "Epoch 40/50\n",
      "1515/1515 [==============================] - 181s 119ms/step - loss: 0.5995 - accuracy: 0.8548\n",
      "Epoch 41/50\n",
      "1515/1515 [==============================] - 190s 126ms/step - loss: 0.5954 - accuracy: 0.8553\n",
      "Epoch 42/50\n",
      "1515/1515 [==============================] - 175s 115ms/step - loss: 0.5922 - accuracy: 0.8552\n",
      "Epoch 43/50\n",
      "1515/1515 [==============================] - 198s 130ms/step - loss: 0.5884 - accuracy: 0.8554\n",
      "Epoch 44/50\n",
      "1515/1515 [==============================] - 157s 104ms/step - loss: 0.5860 - accuracy: 0.8549\n",
      "Epoch 45/50\n",
      "1515/1515 [==============================] - 192s 127ms/step - loss: 0.5809 - accuracy: 0.8555\n",
      "Epoch 46/50\n",
      "1515/1515 [==============================] - 198s 131ms/step - loss: 0.5799 - accuracy: 0.8545\n",
      "Epoch 47/50\n",
      "1515/1515 [==============================] - 176s 116ms/step - loss: 0.5772 - accuracy: 0.8550\n",
      "Epoch 48/50\n",
      "1515/1515 [==============================] - 162s 107ms/step - loss: 0.5747 - accuracy: 0.8551\n",
      "Epoch 49/50\n",
      "1515/1515 [==============================] - 161s 106ms/step - loss: 0.5716 - accuracy: 0.8553\n",
      "Epoch 50/50\n",
      "1515/1515 [==============================] - 165s 109ms/step - loss: 0.5709 - accuracy: 0.8550\n",
      "<keras.engine.sequential.Sequential object at 0x0000021BCBC6A550>\n"
     ]
    }
   ],
   "source": [
    "model = Sequential()\n",
    "model.add(Embedding(total_words, 100, input_length=max_sequence_len-1))\n",
    "model.add(Bidirectional(LSTM(150)))\n",
    "model.add(Dense(total_words, activation='softmax'))\n",
    "adam = Adam(lr=0.01)\n",
    "model.compile(loss='categorical_crossentropy', optimizer=adam, metrics=['accuracy'])\n",
    "history = model.fit(xs, ys, epochs=50, verbose=1)\n",
    "#print model.summary()\n",
    "print(model)"
   ]
  },
  {
   "cell_type": "markdown",
   "id": "abea57e1",
   "metadata": {},
   "source": [
    "# Plotting model accuracy and loss"
   ]
  },
  {
   "cell_type": "code",
   "execution_count": 13,
   "id": "cdc48ddc",
   "metadata": {},
   "outputs": [],
   "source": [
    "import matplotlib.pyplot as plt\n",
    "\n",
    "\n",
    "def plot_graphs(history, string):\n",
    "    plt.plot(history.history[string])\n",
    "    plt.xlabel(\"Epochs\")\n",
    "    plt.ylabel(string)\n",
    "    plt.show()"
   ]
  },
  {
   "cell_type": "code",
   "execution_count": 14,
   "id": "180b9aba",
   "metadata": {},
   "outputs": [
    {
     "data": {
      "image/png": "[encoded data removed]",
      "text/plain": [
       "<Figure size 432x288 with 1 Axes>"
      ]
     },
     "metadata": {
      "needs_background": "light"
     },
     "output_type": "display_data"
    }
   ],
   "source": [
    "plot_graphs(history, 'accuracy')"
   ]
  },
  {
   "cell_type": "code",
   "execution_count": 15,
   "id": "958fdb30",
   "metadata": {},
   "outputs": [
    {
     "data": {
      "image/png": "[encoded data removed]",
      "text/plain": [
       "<Figure size 432x288 with 1 Axes>"
      ]
     },
     "metadata": {
      "needs_background": "light"
     },
     "output_type": "display_data"
    }
   ],
   "source": [
    "plot_graphs(history, 'loss')"
   ]
  },
  {
   "cell_type": "markdown",
   "id": "b7888031",
   "metadata": {},
   "source": [
    "# Predicting next word of title"
   ]
  },
  {
   "cell_type": "code",
   "execution_count": 16,
   "id": "ad3da2ea",
   "metadata": {},
   "outputs": [
    {
     "ename": "AttributeError",
     "evalue": "'Sequential' object has no attribute 'predict_classes'",
     "output_type": "error",
     "traceback": [
      "\u001b[1;31m---------------------------------------------------------------------------\u001b[0m",
      "\u001b[1;31mAttributeError\u001b[0m                            Traceback (most recent call last)",
      "Input \u001b[1;32mIn [16]\u001b[0m, in \u001b[0;36m<cell line: 4>\u001b[1;34m()\u001b[0m\n\u001b[0;32m      5\u001b[0m token_list \u001b[38;5;241m=\u001b[39m tokenizer\u001b[38;5;241m.\u001b[39mtexts_to_sequences([seed_text])[\u001b[38;5;241m0\u001b[39m]\n\u001b[0;32m      6\u001b[0m token_list \u001b[38;5;241m=\u001b[39m pad_sequences([token_list], maxlen\u001b[38;5;241m=\u001b[39mmax_sequence_len\u001b[38;5;241m-\u001b[39m\u001b[38;5;241m1\u001b[39m, padding\u001b[38;5;241m=\u001b[39m\u001b[38;5;124m'\u001b[39m\u001b[38;5;124mpre\u001b[39m\u001b[38;5;124m'\u001b[39m)\n\u001b[1;32m----> 7\u001b[0m predicted \u001b[38;5;241m=\u001b[39m \u001b[43mmodel\u001b[49m\u001b[38;5;241;43m.\u001b[39;49m\u001b[43mpredict_classes\u001b[49m(token_list, verbose\u001b[38;5;241m=\u001b[39m\u001b[38;5;241m0\u001b[39m)\n\u001b[0;32m      8\u001b[0m output_word \u001b[38;5;241m=\u001b[39m \u001b[38;5;124m\"\u001b[39m\u001b[38;5;124m\"\u001b[39m\n\u001b[0;32m      9\u001b[0m \u001b[38;5;28;01mfor\u001b[39;00m word, index \u001b[38;5;129;01min\u001b[39;00m tokenizer\u001b[38;5;241m.\u001b[39mword_index\u001b[38;5;241m.\u001b[39mitems():\n",
      "\u001b[1;31mAttributeError\u001b[0m: 'Sequential' object has no attribute 'predict_classes'"
     ]
    }
   ],
   "source": [
    "seed_text = \"implementation of\"\n",
    "next_words = 2\n",
    "  \n",
    "for _ in range(next_words):\n",
    "    token_list = tokenizer.texts_to_sequences([seed_text])[0]\n",
    "    token_list = pad_sequences([token_list], maxlen=max_sequence_len-1, padding='pre')\n",
    "    predicted = model.predict_classes(token_list, verbose=0)\n",
    "    output_word = \"\"\n",
    "    for word, index in tokenizer.word_index.items():\n",
    "        if index == predicted:\n",
    "            output_word = word\n",
    "            break\n",
    "    seed_text += \" \" + output_word\n",
    "print(seed_text)"
   ]
  },
  {
   "cell_type": "code",
   "execution_count": null,
   "id": "62ed282e",
   "metadata": {},
   "outputs": [],
   "source": []
  }
 ],
 "metadata": {
  "kernelspec": {
   "display_name": "Python 3 (ipykernel)",
   "language": "python",
   "name": "python3"
  },
  "language_info": {
   "codemirror_mode": {
    "name": "ipython",
    "version": 3
   },
   "file_extension": ".py",
   "mimetype": "text/x-python",
   "name": "python",
   "nbconvert_exporter": "python",
   "pygments_lexer": "ipython3",
   "version": "3.9.12"
  }
 },
 "nbformat": 4,
 "nbformat_minor": 5
}
